{
  "cells": [
    {
      "cell_type": "markdown",
      "metadata": {
        "id": "view-in-github",
        "colab_type": "text"
      },
      "source": [
        "<a href=\"https://colab.research.google.com/github/ManuelGalvis04/Analisis_de_Datos/blob/main/Database/ANALISIS_TITANIC.ipynb\" target=\"_parent\"><img src=\"https://colab.research.google.com/assets/colab-badge.svg\" alt=\"Open In Colab\"/></a>"
      ]
    },
    {
      "cell_type": "markdown",
      "metadata": {
        "id": "S2pBeCJjsrKq"
      },
      "source": [
        "IMPORTAMOS LIBRERIA⬇️"
      ]
    },
    {
      "cell_type": "code",
      "execution_count": null,
      "metadata": {
        "id": "H77C6JESsrKw"
      },
      "outputs": [],
      "source": [
        "import pandas as pd"
      ]
    },
    {
      "cell_type": "markdown",
      "metadata": {
        "id": "o-PIfqYysrKy"
      },
      "source": [
        "ABRIMOS EL ARCHIVO⬇️"
      ]
    },
    {
      "cell_type": "code",
      "execution_count": null,
      "metadata": {
        "id": "YpNL2orHsrKy"
      },
      "outputs": [],
      "source": [
        "titanic = pd.read_csv(\"titanic.csv\")\n"
      ]
    },
    {
      "cell_type": "markdown",
      "metadata": {
        "id": "iJMcWegQsrKz"
      },
      "source": [
        "OBSERVAMOS LA CANTIDAD DE REGISTROS QUE HAY EN CADA COLUMNA⬇️"
      ]
    },
    {
      "cell_type": "code",
      "execution_count": null,
      "metadata": {
        "id": "zMFbnVtMsrK0",
        "outputId": "17403a94-0877-4c67-e25f-6af098469266"
      },
      "outputs": [
        {
          "name": "stdout",
          "output_type": "stream",
          "text": [
            "<class 'pandas.core.frame.DataFrame'>\n",
            "RangeIndex: 891 entries, 0 to 890\n",
            "Data columns (total 12 columns):\n",
            " #   Column       Non-Null Count  Dtype  \n",
            "---  ------       --------------  -----  \n",
            " 0   PassengerId  891 non-null    int64  \n",
            " 1   Survived     891 non-null    int64  \n",
            " 2   Pclass       891 non-null    int64  \n",
            " 3   Name         891 non-null    object \n",
            " 4   Sex          891 non-null    object \n",
            " 5   Age          714 non-null    float64\n",
            " 6   SibSp        891 non-null    int64  \n",
            " 7   Parch        891 non-null    int64  \n",
            " 8   Ticket       891 non-null    object \n",
            " 9   Fare         891 non-null    float64\n",
            " 10  Cabin        204 non-null    object \n",
            " 11  Embarked     889 non-null    object \n",
            "dtypes: float64(2), int64(5), object(5)\n",
            "memory usage: 83.7+ KB\n"
          ]
        }
      ],
      "source": [
        "titanic.info()"
      ]
    },
    {
      "cell_type": "markdown",
      "metadata": {
        "id": "8pn45DIqsrK1"
      },
      "source": [
        "Podemos ver la cantidad de datos nulos en cada columna.⬇️"
      ]
    },
    {
      "cell_type": "code",
      "execution_count": null,
      "metadata": {
        "id": "YNA-kF8PsrK2",
        "outputId": "04bd49fe-7942-4cf3-9553-346a8e33e5fa"
      },
      "outputs": [
        {
          "data": {
            "text/plain": [
              "PassengerId      0\n",
              "Survived         0\n",
              "Pclass           0\n",
              "Name             0\n",
              "Sex              0\n",
              "Age            177\n",
              "SibSp            0\n",
              "Parch            0\n",
              "Ticket           0\n",
              "Fare             0\n",
              "Cabin          687\n",
              "Embarked         2\n",
              "dtype: int64"
            ]
          },
          "execution_count": 4,
          "metadata": {},
          "output_type": "execute_result"
        }
      ],
      "source": [
        "titanic.isnull().sum()"
      ]
    },
    {
      "cell_type": "markdown",
      "metadata": {
        "id": "7eba9No1srK3"
      },
      "source": [
        "CANTIDAD DE SOBREVIVENTES\n",
        "\n",
        "SI--> 1\n",
        "\n",
        "NO--> 0\n",
        "\n",
        "⬇️"
      ]
    },
    {
      "cell_type": "code",
      "execution_count": null,
      "metadata": {
        "id": "NYYRpW7BsrK4",
        "outputId": "450fe816-7c7c-42ee-b323-c459a9aea6eb"
      },
      "outputs": [
        {
          "data": {
            "text/plain": [
              "Survived\n",
              "0    549\n",
              "1    342\n",
              "Name: count, dtype: int64"
            ]
          },
          "execution_count": 5,
          "metadata": {},
          "output_type": "execute_result"
        }
      ],
      "source": [
        "titanic['Survived'].value_counts()"
      ]
    },
    {
      "cell_type": "markdown",
      "metadata": {
        "id": "itbWSRRwsrK5"
      },
      "source": [
        "CANTIDAD DE PASAJEROS ENTRE HOMBRES Y MUJERES⬇️"
      ]
    },
    {
      "cell_type": "code",
      "execution_count": null,
      "metadata": {
        "id": "jFyOsExFsrK5",
        "outputId": "a785aeed-e942-4f20-a8cc-6eac0b8f610e"
      },
      "outputs": [
        {
          "data": {
            "text/plain": [
              "Sex\n",
              "male      577\n",
              "female    314\n",
              "Name: count, dtype: int64"
            ]
          },
          "execution_count": 6,
          "metadata": {},
          "output_type": "execute_result"
        }
      ],
      "source": [
        "titanic['Sex'].value_counts()"
      ]
    },
    {
      "cell_type": "markdown",
      "metadata": {
        "id": "V1j_DiTasrK6"
      },
      "source": [
        "PROMEDIO DE EDAD DE LAS PERSONAS QUE HABIAN EN EL TITANIC⬇️"
      ]
    },
    {
      "cell_type": "code",
      "execution_count": null,
      "metadata": {
        "id": "JZsnFqjrsrK6",
        "outputId": "b6a20cc5-2a8d-41ab-cd80-ab6cfc041737"
      },
      "outputs": [
        {
          "data": {
            "text/plain": [
              "29.69911764705882"
            ]
          },
          "execution_count": 7,
          "metadata": {},
          "output_type": "execute_result"
        }
      ],
      "source": [
        "titanic['Age'].mean()"
      ]
    },
    {
      "cell_type": "markdown",
      "metadata": {
        "id": "c0bru7lcsrK6"
      },
      "source": [
        "EDAD MINIMA⬇️"
      ]
    },
    {
      "cell_type": "code",
      "execution_count": null,
      "metadata": {
        "id": "N5uyNGHQsrK7",
        "outputId": "a5cf1575-a12c-4a21-abbe-f87a8db30a8f"
      },
      "outputs": [
        {
          "data": {
            "text/plain": [
              "0.42"
            ]
          },
          "execution_count": 8,
          "metadata": {},
          "output_type": "execute_result"
        }
      ],
      "source": [
        "titanic['Age'].min()\n"
      ]
    },
    {
      "cell_type": "markdown",
      "metadata": {
        "id": "PxmGgYAIsrK7"
      },
      "source": [
        "EDAD MAXIMA⬇️"
      ]
    },
    {
      "cell_type": "code",
      "execution_count": null,
      "metadata": {
        "id": "bwaTv1EqsrK7",
        "outputId": "82ea83e1-361d-4bab-f14a-1a7c626442fe"
      },
      "outputs": [
        {
          "data": {
            "text/plain": [
              "80.0"
            ]
          },
          "execution_count": 9,
          "metadata": {},
          "output_type": "execute_result"
        }
      ],
      "source": [
        "titanic['Age'].max()"
      ]
    },
    {
      "cell_type": "markdown",
      "metadata": {
        "id": "qpUhD35msrK8"
      },
      "source": [
        "PROMEDIO DE EDAD ENTRE MUJERES Y HOMBRES⬇️"
      ]
    },
    {
      "cell_type": "code",
      "execution_count": null,
      "metadata": {
        "id": "B4wQQEoDsrK8",
        "outputId": "e523469f-fe9f-4558-c465-e23727f5e7bd"
      },
      "outputs": [
        {
          "data": {
            "text/html": [
              "<div>\n",
              "<style scoped>\n",
              "    .dataframe tbody tr th:only-of-type {\n",
              "        vertical-align: middle;\n",
              "    }\n",
              "\n",
              "    .dataframe tbody tr th {\n",
              "        vertical-align: top;\n",
              "    }\n",
              "\n",
              "    .dataframe thead th {\n",
              "        text-align: right;\n",
              "    }\n",
              "</style>\n",
              "<table border=\"1\" class=\"dataframe\">\n",
              "  <thead>\n",
              "    <tr style=\"text-align: right;\">\n",
              "      <th></th>\n",
              "      <th>mean</th>\n",
              "    </tr>\n",
              "    <tr>\n",
              "      <th>Sex</th>\n",
              "      <th></th>\n",
              "    </tr>\n",
              "  </thead>\n",
              "  <tbody>\n",
              "    <tr>\n",
              "      <th>female</th>\n",
              "      <td>27.915709</td>\n",
              "    </tr>\n",
              "    <tr>\n",
              "      <th>male</th>\n",
              "      <td>30.726645</td>\n",
              "    </tr>\n",
              "  </tbody>\n",
              "</table>\n",
              "</div>"
            ],
            "text/plain": [
              "             mean\n",
              "Sex              \n",
              "female  27.915709\n",
              "male    30.726645"
            ]
          },
          "execution_count": 10,
          "metadata": {},
          "output_type": "execute_result"
        }
      ],
      "source": [
        "#titanic[('Age', 'Sex')].value_counts()\n",
        "titanic.groupby('Sex')['Age'].agg(['mean'])"
      ]
    },
    {
      "cell_type": "markdown",
      "metadata": {
        "id": "O2cc9DYHsrK9"
      },
      "source": [
        "CANTIDAD DE SOBREVIVIENTES POR EL TIPO DE CLASE⬇️"
      ]
    },
    {
      "cell_type": "code",
      "execution_count": null,
      "metadata": {
        "id": "Z97MA-SdsrK9",
        "outputId": "a052b8ce-de03-480e-f616-5aac3fa99b3b"
      },
      "outputs": [
        {
          "data": {
            "text/plain": [
              "Pclass\n",
              "1    136\n",
              "2     87\n",
              "3    119\n",
              "Name: Survived, dtype: int64"
            ]
          },
          "execution_count": 11,
          "metadata": {},
          "output_type": "execute_result"
        }
      ],
      "source": [
        "Prom_tip_clase = titanic.groupby('Pclass')['Survived'].sum()\n",
        "Prom_tip_clase"
      ]
    },
    {
      "cell_type": "markdown",
      "metadata": {
        "id": "g2Xp00glsrK_"
      },
      "source": [
        "DISTRIBUCIÓN DE LA CANTIDAD DE PASAJEROS EN CADA PUERTO DE EMBARQUE\n",
        "\n",
        "(C = Cherbourg; Q = Queenstown; S = Southampton)\n",
        "\n",
        "⬇️"
      ]
    },
    {
      "cell_type": "code",
      "execution_count": null,
      "metadata": {
        "id": "aLoUcDjysrK_",
        "outputId": "d88a6364-3e14-4e37-ce22-9885ca5b831e"
      },
      "outputs": [
        {
          "data": {
            "text/plain": [
              "Embarked\n",
              "C    168\n",
              "Q     77\n",
              "S    644\n",
              "Name: PassengerId, dtype: int64"
            ]
          },
          "execution_count": 13,
          "metadata": {},
          "output_type": "execute_result"
        }
      ],
      "source": [
        "Port_Embarked = titanic.groupby('Embarked')['PassengerId'].agg('count')\n",
        "Port_Embarked"
      ]
    },
    {
      "cell_type": "code",
      "execution_count": null,
      "metadata": {
        "id": "mJMnq6MWsrLA",
        "outputId": "e195cef3-06cb-4a90-be53-1325ae695e86"
      },
      "outputs": [
        {
          "data": {
            "text/plain": [
              "Age\n",
              "0.42     1\n",
              "0.67     1\n",
              "0.75     2\n",
              "0.83     2\n",
              "0.92     1\n",
              "        ..\n",
              "70.00    2\n",
              "70.50    1\n",
              "71.00    2\n",
              "74.00    1\n",
              "80.00    1\n",
              "Name: Survived, Length: 88, dtype: int64"
            ]
          },
          "execution_count": 14,
          "metadata": {},
          "output_type": "execute_result"
        }
      ],
      "source": [
        "titanic.groupby('Age')['Survived'].agg('count')"
      ]
    }
  ],
  "metadata": {
    "kernelspec": {
      "display_name": "Python 3",
      "language": "python",
      "name": "python3"
    },
    "language_info": {
      "codemirror_mode": {
        "name": "ipython",
        "version": 3
      },
      "file_extension": ".py",
      "mimetype": "text/x-python",
      "name": "python",
      "nbconvert_exporter": "python",
      "pygments_lexer": "ipython3",
      "version": "3.12.0"
    },
    "colab": {
      "provenance": [],
      "include_colab_link": true
    }
  },
  "nbformat": 4,
  "nbformat_minor": 0
}